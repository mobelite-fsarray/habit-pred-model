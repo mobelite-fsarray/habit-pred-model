{
 "cells": [
  {
   "cell_type": "code",
   "execution_count": 30,
   "id": "50594f29",
   "metadata": {
    "scrolled": true
   },
   "outputs": [
    {
     "data": {
      "text/html": [
       "<div>\n",
       "<style scoped>\n",
       "    .dataframe tbody tr th:only-of-type {\n",
       "        vertical-align: middle;\n",
       "    }\n",
       "\n",
       "    .dataframe tbody tr th {\n",
       "        vertical-align: top;\n",
       "    }\n",
       "\n",
       "    .dataframe thead th {\n",
       "        text-align: right;\n",
       "    }\n",
       "</style>\n",
       "<table border=\"1\" class=\"dataframe\">\n",
       "  <thead>\n",
       "    <tr style=\"text-align: right;\">\n",
       "      <th></th>\n",
       "      <th>category</th>\n",
       "      <th>gender</th>\n",
       "      <th>ageGeneration</th>\n",
       "      <th>country</th>\n",
       "      <th>profession</th>\n",
       "      <th>partsOfTheDay</th>\n",
       "    </tr>\n",
       "    <tr>\n",
       "      <th>label</th>\n",
       "      <th></th>\n",
       "      <th></th>\n",
       "      <th></th>\n",
       "      <th></th>\n",
       "      <th></th>\n",
       "      <th></th>\n",
       "    </tr>\n",
       "  </thead>\n",
       "  <tbody>\n",
       "    <tr>\n",
       "      <th>Habit h1</th>\n",
       "      <td>Health</td>\n",
       "      <td>Female</td>\n",
       "      <td>Gen X</td>\n",
       "      <td>India</td>\n",
       "      <td>Software Engineer</td>\n",
       "      <td>night</td>\n",
       "    </tr>\n",
       "    <tr>\n",
       "      <th>Habit h2</th>\n",
       "      <td>Productivity</td>\n",
       "      <td>Female</td>\n",
       "      <td>Gen Z</td>\n",
       "      <td>India</td>\n",
       "      <td>Doctor</td>\n",
       "      <td>morning</td>\n",
       "    </tr>\n",
       "    <tr>\n",
       "      <th>Habit h3</th>\n",
       "      <td>Learning</td>\n",
       "      <td>Female</td>\n",
       "      <td>Millennial</td>\n",
       "      <td>India</td>\n",
       "      <td>Marketing Manager</td>\n",
       "      <td>noon</td>\n",
       "    </tr>\n",
       "    <tr>\n",
       "      <th>Habit h3</th>\n",
       "      <td>Finances</td>\n",
       "      <td>Female</td>\n",
       "      <td>Baby Boomer</td>\n",
       "      <td>India</td>\n",
       "      <td>Doctor</td>\n",
       "      <td>afternoon</td>\n",
       "    </tr>\n",
       "    <tr>\n",
       "      <th>Habit h3</th>\n",
       "      <td>Social</td>\n",
       "      <td>Female</td>\n",
       "      <td>Gen Z</td>\n",
       "      <td>India</td>\n",
       "      <td>Doctor</td>\n",
       "      <td>sunset</td>\n",
       "    </tr>\n",
       "    <tr>\n",
       "      <th>Habit h1</th>\n",
       "      <td>Health</td>\n",
       "      <td>Female</td>\n",
       "      <td>Gen X</td>\n",
       "      <td>India</td>\n",
       "      <td>Software Engineer</td>\n",
       "      <td>night</td>\n",
       "    </tr>\n",
       "    <tr>\n",
       "      <th>Habit h2</th>\n",
       "      <td>Productivity</td>\n",
       "      <td>Female</td>\n",
       "      <td>Gen Z</td>\n",
       "      <td>India</td>\n",
       "      <td>Doctor</td>\n",
       "      <td>morning</td>\n",
       "    </tr>\n",
       "    <tr>\n",
       "      <th>Habit h3</th>\n",
       "      <td>Learning</td>\n",
       "      <td>Female</td>\n",
       "      <td>Millennial</td>\n",
       "      <td>India</td>\n",
       "      <td>Marketing Manager</td>\n",
       "      <td>morning</td>\n",
       "    </tr>\n",
       "    <tr>\n",
       "      <th>Habit h3</th>\n",
       "      <td>Finances</td>\n",
       "      <td>Female</td>\n",
       "      <td>Baby Boomer</td>\n",
       "      <td>India</td>\n",
       "      <td>Doctor</td>\n",
       "      <td>sunset</td>\n",
       "    </tr>\n",
       "    <tr>\n",
       "      <th>Habit h3</th>\n",
       "      <td>Social</td>\n",
       "      <td>Female</td>\n",
       "      <td>Gen Z</td>\n",
       "      <td>India</td>\n",
       "      <td>Doctor</td>\n",
       "      <td>night</td>\n",
       "    </tr>\n",
       "    <tr>\n",
       "      <th>Habit h1</th>\n",
       "      <td>Health</td>\n",
       "      <td>Male</td>\n",
       "      <td>Gen X</td>\n",
       "      <td>India</td>\n",
       "      <td>Software Engineer</td>\n",
       "      <td>night</td>\n",
       "    </tr>\n",
       "    <tr>\n",
       "      <th>Habit h2</th>\n",
       "      <td>Productivity</td>\n",
       "      <td>Male</td>\n",
       "      <td>Gen Z</td>\n",
       "      <td>India</td>\n",
       "      <td>Doctor</td>\n",
       "      <td>morning</td>\n",
       "    </tr>\n",
       "    <tr>\n",
       "      <th>Habit h3</th>\n",
       "      <td>Learning</td>\n",
       "      <td>Male</td>\n",
       "      <td>Millennial</td>\n",
       "      <td>India</td>\n",
       "      <td>Marketing Manager</td>\n",
       "      <td>morning</td>\n",
       "    </tr>\n",
       "    <tr>\n",
       "      <th>Habit h3</th>\n",
       "      <td>Finances</td>\n",
       "      <td>Male</td>\n",
       "      <td>Baby Boomer</td>\n",
       "      <td>India</td>\n",
       "      <td>Doctor</td>\n",
       "      <td>sunset</td>\n",
       "    </tr>\n",
       "    <tr>\n",
       "      <th>Habit h3</th>\n",
       "      <td>Social</td>\n",
       "      <td>Male</td>\n",
       "      <td>Gen Z</td>\n",
       "      <td>India</td>\n",
       "      <td>Doctor</td>\n",
       "      <td>night</td>\n",
       "    </tr>\n",
       "    <tr>\n",
       "      <th>Habit h3</th>\n",
       "      <td>Social</td>\n",
       "      <td>Male</td>\n",
       "      <td>Gen Z</td>\n",
       "      <td>India</td>\n",
       "      <td>Doctor</td>\n",
       "      <td>sunrise</td>\n",
       "    </tr>\n",
       "    <tr>\n",
       "      <th>Habit h1</th>\n",
       "      <td>Health</td>\n",
       "      <td>Male</td>\n",
       "      <td>Gen X</td>\n",
       "      <td>India</td>\n",
       "      <td>Software Engineer</td>\n",
       "      <td>night</td>\n",
       "    </tr>\n",
       "    <tr>\n",
       "      <th>Habit h2</th>\n",
       "      <td>Productivity</td>\n",
       "      <td>Male</td>\n",
       "      <td>Gen Z</td>\n",
       "      <td>India</td>\n",
       "      <td>Doctor</td>\n",
       "      <td>morning</td>\n",
       "    </tr>\n",
       "    <tr>\n",
       "      <th>Habit h3</th>\n",
       "      <td>Learning</td>\n",
       "      <td>Male</td>\n",
       "      <td>Millennial</td>\n",
       "      <td>India</td>\n",
       "      <td>Marketing Manager</td>\n",
       "      <td>morning</td>\n",
       "    </tr>\n",
       "    <tr>\n",
       "      <th>Habit h3</th>\n",
       "      <td>Finances</td>\n",
       "      <td>Male</td>\n",
       "      <td>Baby Boomer</td>\n",
       "      <td>India</td>\n",
       "      <td>Doctor</td>\n",
       "      <td>sunset</td>\n",
       "    </tr>\n",
       "    <tr>\n",
       "      <th>Habit h3</th>\n",
       "      <td>Social</td>\n",
       "      <td>Male</td>\n",
       "      <td>Gen Z</td>\n",
       "      <td>India</td>\n",
       "      <td>Doctor</td>\n",
       "      <td>night</td>\n",
       "    </tr>\n",
       "    <tr>\n",
       "      <th>Habit h3</th>\n",
       "      <td>Social</td>\n",
       "      <td>Male</td>\n",
       "      <td>Gen Z</td>\n",
       "      <td>India</td>\n",
       "      <td>Doctor</td>\n",
       "      <td>sunrise</td>\n",
       "    </tr>\n",
       "  </tbody>\n",
       "</table>\n",
       "</div>"
      ],
      "text/plain": [
       "              category  gender ageGeneration country         profession  \\\n",
       "label                                                                     \n",
       "Habit h1        Health  Female         Gen X   India  Software Engineer   \n",
       "Habit h2  Productivity  Female         Gen Z   India             Doctor   \n",
       "Habit h3      Learning  Female    Millennial   India  Marketing Manager   \n",
       "Habit h3      Finances  Female   Baby Boomer   India             Doctor   \n",
       "Habit h3        Social  Female         Gen Z   India             Doctor   \n",
       "Habit h1        Health  Female         Gen X   India  Software Engineer   \n",
       "Habit h2  Productivity  Female         Gen Z   India             Doctor   \n",
       "Habit h3      Learning  Female    Millennial   India  Marketing Manager   \n",
       "Habit h3      Finances  Female   Baby Boomer   India             Doctor   \n",
       "Habit h3        Social  Female         Gen Z   India             Doctor   \n",
       "Habit h1        Health    Male         Gen X   India  Software Engineer   \n",
       "Habit h2  Productivity    Male         Gen Z   India             Doctor   \n",
       "Habit h3      Learning    Male    Millennial   India  Marketing Manager   \n",
       "Habit h3      Finances    Male   Baby Boomer   India             Doctor   \n",
       "Habit h3        Social    Male         Gen Z   India             Doctor   \n",
       "Habit h3        Social    Male         Gen Z   India             Doctor   \n",
       "Habit h1        Health    Male         Gen X   India  Software Engineer   \n",
       "Habit h2  Productivity    Male         Gen Z   India             Doctor   \n",
       "Habit h3      Learning    Male    Millennial   India  Marketing Manager   \n",
       "Habit h3      Finances    Male   Baby Boomer   India             Doctor   \n",
       "Habit h3        Social    Male         Gen Z   India             Doctor   \n",
       "Habit h3        Social    Male         Gen Z   India             Doctor   \n",
       "\n",
       "         partsOfTheDay  \n",
       "label                   \n",
       "Habit h1         night  \n",
       "Habit h2       morning  \n",
       "Habit h3          noon  \n",
       "Habit h3     afternoon  \n",
       "Habit h3        sunset  \n",
       "Habit h1         night  \n",
       "Habit h2       morning  \n",
       "Habit h3       morning  \n",
       "Habit h3        sunset  \n",
       "Habit h3         night  \n",
       "Habit h1         night  \n",
       "Habit h2       morning  \n",
       "Habit h3       morning  \n",
       "Habit h3        sunset  \n",
       "Habit h3         night  \n",
       "Habit h3       sunrise  \n",
       "Habit h1         night  \n",
       "Habit h2       morning  \n",
       "Habit h3       morning  \n",
       "Habit h3        sunset  \n",
       "Habit h3         night  \n",
       "Habit h3       sunrise  "
      ]
     },
     "execution_count": 30,
     "metadata": {},
     "output_type": "execute_result"
    }
   ],
   "source": [
    "import pandas as pd\n",
    "\n",
    "data_file = pd.read_csv(\"habit_data_manually.csv\",index_col=0)\n",
    "data_file.shape\n",
    "data_file"
   ]
  },
  {
   "cell_type": "code",
   "execution_count": 31,
   "id": "fc717fb7",
   "metadata": {},
   "outputs": [],
   "source": [
    "# Parse textual data\n",
    "data_file[\"gender_code\"] = data_file['gender'].astype(\"category\").cat.codes\n",
    "data_file[\"ageGeneration_code\"] = data_file['ageGeneration'].astype(\"category\").cat.codes\n",
    "data_file[\"profession_code\"] = data_file['profession'].astype(\"category\").cat.codes\n",
    "data_file[\"partsOfTheDay_code\"] = data_file['partsOfTheDay'].astype(\"category\").cat.codes\n",
    "\n",
    "\n",
    "#gender\n",
    "#[0, 1]\n",
    "#['Female', 'Male']\n",
    "\n",
    "#ageGeneration_code\n",
    "#[0, 1, 2, 3]\n",
    "#['Baby Boomer', 'Gen X', 'Gen Z', 'Millennial']\n",
    "\n",
    "#profession_code\n",
    "#[0, 1, 2]\n",
    "#['Marketing Manager', 'Software Engineer', 'Doctor']\n",
    "\n",
    "#partsOfTheDay\n",
    "#[0, 1, 2, 3, 4, 5]\n",
    "#['morning', 'sunset', 'sunrise', 'noon', 'afternoon', 'night']"
   ]
  },
  {
   "cell_type": "code",
   "execution_count": 7,
   "id": "3b079883",
   "metadata": {},
   "outputs": [
    {
     "data": {
      "text/plain": [
       "['profession_code', 'gender_code', 'ageGeneration_code', 'partsOfTheDay_code']"
      ]
     },
     "execution_count": 7,
     "metadata": {},
     "output_type": "execute_result"
    }
   ],
   "source": [
    "target = \"category\"\n",
    "ignored_columns = [\"gender\",\n",
    "                  \"ageGeneration\",\n",
    "                  \"profession\",\n",
    "                   \"country\",\n",
    "                   \"partsOfTheDay\"\n",
    "                  ]\n",
    "ignored_columns.append(target)\n",
    "input_columns = list(set(data_file.columns.array).difference(ignored_columns))\n",
    "input_columns"
   ]
  },
  {
   "cell_type": "code",
   "execution_count": 32,
   "id": "ed1b8a5d",
   "metadata": {},
   "outputs": [
    {
     "data": {
      "text/plain": [
       "array([[<Axes: title={'center': 'gender_code'}>,\n",
       "        <Axes: title={'center': 'ageGeneration_code'}>],\n",
       "       [<Axes: title={'center': 'profession_code'}>,\n",
       "        <Axes: title={'center': 'partsOfTheDay_code'}>]], dtype=object)"
      ]
     },
     "execution_count": 32,
     "metadata": {},
     "output_type": "execute_result"
    },
    {
     "data": {
      "image/png": "[encoded data removed]",
      "text/plain": [
       "<Figure size 1500x800 with 4 Axes>"
      ]
     },
     "metadata": {},
     "output_type": "display_data"
    }
   ],
   "source": [
    "from sklearn.model_selection import train_test_split\n",
    "from sklearn.metrics import accuracy_score\n",
    "\n",
    "X = data_file.drop(columns=ignored_columns,axis=1)\n",
    "y = data_file[target]\n",
    "\n",
    "# we using 20% of our data to test this model\n",
    "X_train, X_test, y_train, y_test = train_test_split(X, y, test_size=0.2)\n",
    "train_data = X_train.join(y_train)\n"
   ]
  },
  {
   "cell_type": "code",
   "execution_count": null,
   "id": "211f7374",
   "metadata": {},
   "outputs": [],
   "source": [
    "train_data.hist(figsize=(15,8))"
   ]
  },
  {
   "cell_type": "code",
   "execution_count": 33,
   "id": "d58b4c46",
   "metadata": {},
   "outputs": [
    {
     "name": "stdout",
     "output_type": "stream",
     "text": [
      "1.0\n"
     ]
    }
   ],
   "source": [
    "from sklearn.tree import DecisionTreeClassifier\n",
    "\n",
    "model = DecisionTreeClassifier()\n",
    "model.fit(X_train.values, y_train)\n",
    "\n",
    "predictions = model.predict(X_test.values)\n",
    "\n",
    "score = accuracy_score(y_test, predictions)\n",
    "print(score)"
   ]
  },
  {
   "cell_type": "code",
   "execution_count": 5,
   "id": "e053a7f1",
   "metadata": {},
   "outputs": [
    {
     "ename": "NameError",
     "evalue": "name 'model' is not defined",
     "output_type": "error",
     "traceback": [
      "\u001b[1;31m---------------------------------------------------------------------------\u001b[0m",
      "\u001b[1;31mNameError\u001b[0m                                 Traceback (most recent call last)",
      "Cell \u001b[1;32mIn[5], line 4\u001b[0m\n\u001b[0;32m      2\u001b[0m \u001b[38;5;66;03m# Save the model to disk\u001b[39;00m\n\u001b[0;32m      3\u001b[0m filename \u001b[38;5;241m=\u001b[39m \u001b[38;5;124m'\u001b[39m\u001b[38;5;124mhabit_pred_model.pkl\u001b[39m\u001b[38;5;124m'\u001b[39m\n\u001b[1;32m----> 4\u001b[0m pickle\u001b[38;5;241m.\u001b[39mdump(model, \u001b[38;5;28mopen\u001b[39m(filename, \u001b[38;5;124m'\u001b[39m\u001b[38;5;124mwb\u001b[39m\u001b[38;5;124m'\u001b[39m))\n",
      "\u001b[1;31mNameError\u001b[0m: name 'model' is not defined"
     ]
    }
   ],
   "source": [
    "import pickle\n",
    "# Save the model to disk\n",
    "filename = 'habit_pred_model.pkl'\n",
    "pickle.dump(model, open(filename, 'wb'))"
   ]
  },
  {
   "cell_type": "code",
   "execution_count": 6,
   "id": "a9f45822",
   "metadata": {},
   "outputs": [
    {
     "ename": "TypeError",
     "evalue": "a bytes-like object is required, not 'str'",
     "output_type": "error",
     "traceback": [
      "\u001b[1;31m---------------------------------------------------------------------------\u001b[0m",
      "\u001b[1;31mTypeError\u001b[0m                                 Traceback (most recent call last)",
      "Cell \u001b[1;32mIn[6], line 1\u001b[0m\n\u001b[1;32m----> 1\u001b[0m savedModel \u001b[38;5;241m=\u001b[39m pickle\u001b[38;5;241m.\u001b[39mloads(\u001b[38;5;124m'\u001b[39m\u001b[38;5;124mhabit_pred_model.pkl\u001b[39m\u001b[38;5;124m'\u001b[39m)\n",
      "\u001b[1;31mTypeError\u001b[0m: a bytes-like object is required, not 'str'"
     ]
    }
   ],
   "source": [
    "savedModel = pickle.loads('habit_pred_model.pkl') "
   ]
  },
  {
   "cell_type": "code",
   "execution_count": 12,
   "id": "b328b029",
   "metadata": {},
   "outputs": [],
   "source": [
    "from sklearn import tree\n",
    "tree.export_graphviz(\n",
    "    model,\n",
    "    out_file=\"habit-category-recommander.dot\",\n",
    "    feature_names=input_columns,\n",
    "    class_names=sorted(y.unique()),\n",
    "    label=\"all\",\n",
    "    rounded=True,\n",
    "    filled=True)"
   ]
  },
  {
   "cell_type": "code",
   "execution_count": 9,
   "id": "bb1078d6",
   "metadata": {},
   "outputs": [],
   "source": [
    "#gender\n",
    "#[0, 1]\n",
    "#['Female', 'Male']\n",
    "\n",
    "#ageGeneration_code\n",
    "#[0, 1, 2, 3]\n",
    "#['Baby Boomer', 'Gen X', 'Gen Z', 'Millennial']\n",
    "\n",
    "#profession_code\n",
    "#[0, 1, 2]\n",
    "#['Marketing Manager', 'Software Engineer', 'Doctor']\n",
    "\n",
    "#partsOfTheDay\n",
    "#[0, 1, 2, 3, 4, 5]\n",
    "#['morning', 'sunset', 'sunrise', 'noon', 'afternoon', 'night']"
   ]
  },
  {
   "cell_type": "code",
   "execution_count": 1,
   "id": "11f4170c",
   "metadata": {},
   "outputs": [
    {
     "ename": "NameError",
     "evalue": "name 'savedModel' is not defined",
     "output_type": "error",
     "traceback": [
      "\u001b[1;31m---------------------------------------------------------------------------\u001b[0m",
      "\u001b[1;31mNameError\u001b[0m                                 Traceback (most recent call last)",
      "Cell \u001b[1;32mIn[1], line 1\u001b[0m\n\u001b[1;32m----> 1\u001b[0m predictions \u001b[38;5;241m=\u001b[39m savedModel\u001b[38;5;241m.\u001b[39mpredict([[\u001b[38;5;241m1\u001b[39m,\u001b[38;5;241m2\u001b[39m,\u001b[38;5;241m1\u001b[39m,\u001b[38;5;241m5\u001b[39m]])\n\u001b[0;32m      2\u001b[0m \u001b[38;5;28mprint\u001b[39m(predictions)\n",
      "\u001b[1;31mNameError\u001b[0m: name 'savedModel' is not defined"
     ]
    }
   ],
   "source": [
    "predictions = savedModel.predict([[1,2,1,5]])\n",
    "print(predictions)"
   ]
  },
  {
   "cell_type": "code",
   "execution_count": null,
   "id": "3a93cb10",
   "metadata": {},
   "outputs": [],
   "source": []
  },
  {
   "cell_type": "code",
   "execution_count": 2,
   "id": "208a9eb1",
   "metadata": {},
   "outputs": [
    {
     "name": "stdout",
     "output_type": "stream",
     "text": [
      "(18, 3)\n",
      "1.0\n"
     ]
    }
   ],
   "source": [
    "#import libs\n",
    "import pandas as pd\n",
    "from sklearn.tree import DecisionTreeClassifier\n",
    "from sklearn.model_selection import train_test_split\n",
    "from sklearn.metrics import accuracy_score\n",
    "from sklearn import tree\n",
    "\n",
    "target = \"genre\"\n",
    "# import dataSet file\n",
    "data = pd.read_csv(\"music.csv\")\n",
    "X = data.drop(columns=target)\n",
    "y = data[target]\n",
    "print(data.shape) # to display data rows & cols length\n",
    "X_train, X_test, y_train, y_test = train_test_split(X,y,test_size=0.2)\n",
    "\n",
    "# train model\n",
    "model = DecisionTreeClassifier()\n",
    "model.fit(X_train.values, y_train)\n",
    "predictions = model.predict(X_test.values)\n",
    "\n",
    "# calculate accuarcy\n",
    "score = accuracy_score(y_test, predictions)\n",
    "print(score)\n",
    "\n",
    "# make prediction\n",
    "# 24 year man music type and 36 year woman ?\n",
    "model.predict([[24,1],[36,0]])\n",
    "\n",
    "# export GraphViz\n",
    "columns = data.columns.drop(target).array\n",
    "tree.export_graphviz(\n",
    "    model,\n",
    "    out_file=\"music-genre-recommander.dot\",\n",
    "    feature_names=columns,\n",
    "    class_names=sorted(y.unique()),\n",
    "    label=\"all\",\n",
    "    rounded=True,\n",
    "    filled=True)"
   ]
  },
  {
   "cell_type": "code",
   "execution_count": 41,
   "id": "ecca1410",
   "metadata": {},
   "outputs": [
    {
     "name": "stdout",
     "output_type": "stream",
     "text": [
      "1.3.0\n"
     ]
    }
   ],
   "source": [
    "import sklearn\n",
    "print(sklearn.__version__)\n"
   ]
  },
  {
   "cell_type": "code",
   "execution_count": null,
   "id": "22aee4fc",
   "metadata": {},
   "outputs": [],
   "source": []
  }
 ],
 "metadata": {
  "kernelspec": {
   "display_name": "Python 3 (ipykernel)",
   "language": "python",
   "name": "python3"
  },
  "language_info": {
   "codemirror_mode": {
    "name": "ipython",
    "version": 3
   },
   "file_extension": ".py",
   "mimetype": "text/x-python",
   "name": "python",
   "nbconvert_exporter": "python",
   "pygments_lexer": "ipython3",
   "version": "3.11.5"
  }
 },
 "nbformat": 4,
 "nbformat_minor": 5
}
