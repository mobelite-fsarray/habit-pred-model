{
 "cells": [
  {
   "cell_type": "code",
   "execution_count": 1,
   "id": "50594f29",
   "metadata": {
    "scrolled": true
   },
   "outputs": [
    {
     "data": {
      "text/html": [
       "<div>\n",
       "<style scoped>\n",
       "    .dataframe tbody tr th:only-of-type {\n",
       "        vertical-align: middle;\n",
       "    }\n",
       "\n",
       "    .dataframe tbody tr th {\n",
       "        vertical-align: top;\n",
       "    }\n",
       "\n",
       "    .dataframe thead th {\n",
       "        text-align: right;\n",
       "    }\n",
       "</style>\n",
       "<table border=\"1\" class=\"dataframe\">\n",
       "  <thead>\n",
       "    <tr style=\"text-align: right;\">\n",
       "      <th></th>\n",
       "      <th>category</th>\n",
       "      <th>gender</th>\n",
       "      <th>ageGeneration</th>\n",
       "      <th>country</th>\n",
       "      <th>profession</th>\n",
       "      <th>partsOfTheDay</th>\n",
       "    </tr>\n",
       "    <tr>\n",
       "      <th>label</th>\n",
       "      <th></th>\n",
       "      <th></th>\n",
       "      <th></th>\n",
       "      <th></th>\n",
       "      <th></th>\n",
       "      <th></th>\n",
       "    </tr>\n",
       "  </thead>\n",
       "  <tbody>\n",
       "    <tr>\n",
       "      <th>Habit h1</th>\n",
       "      <td>Health</td>\n",
       "      <td>Female</td>\n",
       "      <td>Gen X</td>\n",
       "      <td>India</td>\n",
       "      <td>Software Engineer</td>\n",
       "      <td>night</td>\n",
       "    </tr>\n",
       "    <tr>\n",
       "      <th>Habit h2</th>\n",
       "      <td>Productivity</td>\n",
       "      <td>Female</td>\n",
       "      <td>Gen Z</td>\n",
       "      <td>India</td>\n",
       "      <td>Doctor</td>\n",
       "      <td>morning</td>\n",
       "    </tr>\n",
       "    <tr>\n",
       "      <th>Habit h3</th>\n",
       "      <td>Learning</td>\n",
       "      <td>Female</td>\n",
       "      <td>Millennial</td>\n",
       "      <td>India</td>\n",
       "      <td>Marketing Manager</td>\n",
       "      <td>noon</td>\n",
       "    </tr>\n",
       "    <tr>\n",
       "      <th>Habit h3</th>\n",
       "      <td>Finances</td>\n",
       "      <td>Female</td>\n",
       "      <td>Baby Boomer</td>\n",
       "      <td>India</td>\n",
       "      <td>Doctor</td>\n",
       "      <td>afternoon</td>\n",
       "    </tr>\n",
       "    <tr>\n",
       "      <th>Habit h3</th>\n",
       "      <td>Social</td>\n",
       "      <td>Female</td>\n",
       "      <td>Gen Z</td>\n",
       "      <td>India</td>\n",
       "      <td>Doctor</td>\n",
       "      <td>sunset</td>\n",
       "    </tr>\n",
       "  </tbody>\n",
       "</table>\n",
       "</div>"
      ],
      "text/plain": [
       "              category  gender ageGeneration country         profession  \\\n",
       "label                                                                     \n",
       "Habit h1        Health  Female         Gen X   India  Software Engineer   \n",
       "Habit h2  Productivity  Female         Gen Z   India             Doctor   \n",
       "Habit h3      Learning  Female    Millennial   India  Marketing Manager   \n",
       "Habit h3      Finances  Female   Baby Boomer   India             Doctor   \n",
       "Habit h3        Social  Female         Gen Z   India             Doctor   \n",
       "\n",
       "         partsOfTheDay  \n",
       "label                   \n",
       "Habit h1         night  \n",
       "Habit h2       morning  \n",
       "Habit h3          noon  \n",
       "Habit h3     afternoon  \n",
       "Habit h3        sunset  "
      ]
     },
     "execution_count": 1,
     "metadata": {},
     "output_type": "execute_result"
    }
   ],
   "source": [
    "import pandas as pd\n",
    "\n",
    "data_file = pd.read_csv(\"habit_data.csv\",index_col=0)\n",
    "data_file.shape\n",
    "data_file.head()"
   ]
  },
  {
   "cell_type": "code",
   "execution_count": 55,
   "id": "fc717fb7",
   "metadata": {},
   "outputs": [],
   "source": [
    "# Parse textual data\n",
    "data_file[\"gender_code\"] = data_file['gender'].astype(\"category\").cat.codes\n",
    "data_file[\"ageGeneration_code\"] = data_file['ageGeneration'].astype(\"category\").cat.codes\n",
    "data_file[\"profession_code\"] = data_file['profession'].astype(\"category\").cat.codes\n",
    "data_file[\"partsOfTheDay_code\"] = data_file['partsOfTheDay'].astype(\"category\").cat.codes\n",
    "\n",
    "\n",
    "#gender\n",
    "#[0, 1]\n",
    "#['Female', 'Male']\n",
    "\n",
    "#ageGeneration_code\n",
    "#[0, 1, 2, 3]\n",
    "#['Baby Boomer', 'Gen X', 'Gen Z', 'Millennial']\n",
    "\n",
    "#profession_code\n",
    "#[0, 1, 2]\n",
    "#['Marketing Manager', 'Software Engineer', 'Doctor']\n",
    "\n",
    "#partsOfTheDay\n",
    "#[0, 1, 2, 3, 4, 5]\n",
    "#['morning', 'sunset', 'sunrise', 'noon', 'afternoon', 'night']"
   ]
  },
  {
   "cell_type": "code",
   "execution_count": 3,
   "id": "3b079883",
   "metadata": {},
   "outputs": [
    {
     "data": {
      "text/plain": [
       "['profession_code', 'ageGeneration_code', 'partsOfTheDay_code', 'gender_code']"
      ]
     },
     "execution_count": 3,
     "metadata": {},
     "output_type": "execute_result"
    }
   ],
   "source": [
    "target = \"category\"\n",
    "ignored_columns = [\"gender\",\n",
    "                  \"ageGeneration\",\n",
    "                  \"profession\",\n",
    "                   \"country\",\n",
    "                   \"partsOfTheDay\"\n",
    "                  ]\n",
    "ignored_columns.append(target)\n",
    "input_columns = list(set(data_file.columns.array).difference(ignored_columns))\n",
    "input_columns"
   ]
  },
  {
   "cell_type": "code",
   "execution_count": 4,
   "id": "ed1b8a5d",
   "metadata": {},
   "outputs": [
    {
     "data": {
      "text/plain": [
       "array([[<Axes: title={'center': 'gender_code'}>,\n",
       "        <Axes: title={'center': 'ageGeneration_code'}>],\n",
       "       [<Axes: title={'center': 'profession_code'}>,\n",
       "        <Axes: title={'center': 'partsOfTheDay_code'}>]], dtype=object)"
      ]
     },
     "execution_count": 4,
     "metadata": {},
     "output_type": "execute_result"
    },
    {
     "data": {
      "image/png": "[encoded data removed]",
      "text/plain": [
       "<Figure size 1500x800 with 4 Axes>"
      ]
     },
     "metadata": {},
     "output_type": "display_data"
    }
   ],
   "source": [
    "from sklearn.model_selection import train_test_split\n",
    "from sklearn.metrics import accuracy_score\n",
    "\n",
    "X = data_file.drop(columns=ignored_columns,axis=1)\n",
    "y = data_file[target]\n",
    "\n",
    "# we using 20% of our data to test this model\n",
    "X_train, X_test, y_train, y_test = train_test_split(X, y, test_size=0.2)\n",
    "train_data = X_train.join(y_train)\n",
    "train_data.hist(figsize=(15,8))"
   ]
  },
  {
   "cell_type": "code",
   "execution_count": 5,
   "id": "d58b4c46",
   "metadata": {},
   "outputs": [
    {
     "name": "stdout",
     "output_type": "stream",
     "text": [
      "1.0\n"
     ]
    }
   ],
   "source": [
    "from sklearn.tree import DecisionTreeClassifier\n",
    "\n",
    "model = DecisionTreeClassifier()\n",
    "model.fit(X_train.values, y_train)\n",
    "\n",
    "predictions = model.predict(X_test.values)\n",
    "\n",
    "score = accuracy_score(y_test, predictions)\n",
    "print(score)"
   ]
  },
  {
   "cell_type": "code",
   "execution_count": 6,
   "id": "e053a7f1",
   "metadata": {},
   "outputs": [
    {
     "data": {
      "text/plain": [
       "['habit_pred_model.joblib']"
      ]
     },
     "execution_count": 6,
     "metadata": {},
     "output_type": "execute_result"
    }
   ],
   "source": [
    "from joblib import dump, load\n",
    "dump(model, 'habit_pred_model.joblib') "
   ]
  },
  {
   "cell_type": "code",
   "execution_count": 7,
   "id": "a9f45822",
   "metadata": {},
   "outputs": [],
   "source": [
    "savedModel = load('habit_pred_model.joblib') "
   ]
  },
  {
   "cell_type": "code",
   "execution_count": 8,
   "id": "b328b029",
   "metadata": {},
   "outputs": [],
   "source": [
    "from sklearn import tree\n",
    "tree.export_graphviz(\n",
    "    model,\n",
    "    out_file=\"habit-category-recommander.dot\",\n",
    "    feature_names=input_columns,\n",
    "    class_names=sorted(y.unique()),\n",
    "    label=\"all\",\n",
    "    rounded=True,\n",
    "    filled=True)"
   ]
  },
  {
   "cell_type": "code",
   "execution_count": 9,
   "id": "bb1078d6",
   "metadata": {},
   "outputs": [],
   "source": [
    "#gender\n",
    "#[0, 1]\n",
    "#['Female', 'Male']\n",
    "\n",
    "#ageGeneration_code\n",
    "#[0, 1, 2, 3]\n",
    "#['Baby Boomer', 'Gen X', 'Gen Z', 'Millennial']\n",
    "\n",
    "#profession_code\n",
    "#[0, 1, 2]\n",
    "#['Marketing Manager', 'Software Engineer', 'Doctor']\n",
    "\n",
    "#partsOfTheDay\n",
    "#[0, 1, 2, 3, 4, 5]\n",
    "#['morning', 'sunset', 'sunrise', 'noon', 'afternoon', 'night']"
   ]
  },
  {
   "cell_type": "code",
   "execution_count": 58,
   "id": "11f4170c",
   "metadata": {},
   "outputs": [
    {
     "name": "stdout",
     "output_type": "stream",
     "text": [
      "['Finances']\n"
     ]
    }
   ],
   "source": [
    "predictions = model.predict([[0,0,0,0]])\n",
    "print(predictions)"
   ]
  },
  {
   "cell_type": "code",
   "execution_count": 11,
   "id": "5f7bded8",
   "metadata": {},
   "outputs": [
    {
     "ename": "ValueError",
     "evalue": "X has 3 features, but DecisionTreeClassifier is expecting 4 features as input.",
     "output_type": "error",
     "traceback": [
      "\u001b[1;31m---------------------------------------------------------------------------\u001b[0m",
      "\u001b[1;31mValueError\u001b[0m                                Traceback (most recent call last)",
      "Cell \u001b[1;32mIn[11], line 2\u001b[0m\n\u001b[0;32m      1\u001b[0m \u001b[38;5;66;03m# fix gender_code:male, ageGeneration_code: GEN X\u001b[39;00m\n\u001b[1;32m----> 2\u001b[0m predictions \u001b[38;5;241m=\u001b[39m model\u001b[38;5;241m.\u001b[39mpredict([[\u001b[38;5;241m0\u001b[39m,\u001b[38;5;241m1\u001b[39m,\u001b[38;5;241m0\u001b[39m],[\u001b[38;5;241m0\u001b[39m,\u001b[38;5;241m1\u001b[39m,\u001b[38;5;241m1\u001b[39m],[\u001b[38;5;241m0\u001b[39m,\u001b[38;5;241m1\u001b[39m,\u001b[38;5;241m2\u001b[39m],[\u001b[38;5;241m0\u001b[39m,\u001b[38;5;241m1\u001b[39m,\u001b[38;5;241m3\u001b[39m],[\u001b[38;5;241m0\u001b[39m,\u001b[38;5;241m1\u001b[39m,\u001b[38;5;241m4\u001b[39m]])\n\u001b[0;32m      3\u001b[0m \u001b[38;5;28mprint\u001b[39m(\u001b[38;5;124m\"\u001b[39m\u001b[38;5;124mmale: \u001b[39m\u001b[38;5;124m\"\u001b[39m,predictions)\n\u001b[0;32m      5\u001b[0m \u001b[38;5;66;03m# fix gender_code:female, ageGeneration_code: GEN X\u001b[39;00m\n",
      "File \u001b[1;32m~\\anaconda3\\Lib\\site-packages\\sklearn\\tree\\_classes.py:500\u001b[0m, in \u001b[0;36mBaseDecisionTree.predict\u001b[1;34m(self, X, check_input)\u001b[0m\n\u001b[0;32m    477\u001b[0m \u001b[38;5;250m\u001b[39m\u001b[38;5;124;03m\"\"\"Predict class or regression value for X.\u001b[39;00m\n\u001b[0;32m    478\u001b[0m \n\u001b[0;32m    479\u001b[0m \u001b[38;5;124;03mFor a classification model, the predicted class for each sample in X is\u001b[39;00m\n\u001b[1;32m   (...)\u001b[0m\n\u001b[0;32m    497\u001b[0m \u001b[38;5;124;03m    The predicted classes, or the predict values.\u001b[39;00m\n\u001b[0;32m    498\u001b[0m \u001b[38;5;124;03m\"\"\"\u001b[39;00m\n\u001b[0;32m    499\u001b[0m check_is_fitted(\u001b[38;5;28mself\u001b[39m)\n\u001b[1;32m--> 500\u001b[0m X \u001b[38;5;241m=\u001b[39m \u001b[38;5;28mself\u001b[39m\u001b[38;5;241m.\u001b[39m_validate_X_predict(X, check_input)\n\u001b[0;32m    501\u001b[0m proba \u001b[38;5;241m=\u001b[39m \u001b[38;5;28mself\u001b[39m\u001b[38;5;241m.\u001b[39mtree_\u001b[38;5;241m.\u001b[39mpredict(X)\n\u001b[0;32m    502\u001b[0m n_samples \u001b[38;5;241m=\u001b[39m X\u001b[38;5;241m.\u001b[39mshape[\u001b[38;5;241m0\u001b[39m]\n",
      "File \u001b[1;32m~\\anaconda3\\Lib\\site-packages\\sklearn\\tree\\_classes.py:460\u001b[0m, in \u001b[0;36mBaseDecisionTree._validate_X_predict\u001b[1;34m(self, X, check_input)\u001b[0m\n\u001b[0;32m    458\u001b[0m \u001b[38;5;28;01melse\u001b[39;00m:\n\u001b[0;32m    459\u001b[0m     force_all_finite \u001b[38;5;241m=\u001b[39m \u001b[38;5;28;01mTrue\u001b[39;00m\n\u001b[1;32m--> 460\u001b[0m X \u001b[38;5;241m=\u001b[39m \u001b[38;5;28mself\u001b[39m\u001b[38;5;241m.\u001b[39m_validate_data(\n\u001b[0;32m    461\u001b[0m     X,\n\u001b[0;32m    462\u001b[0m     dtype\u001b[38;5;241m=\u001b[39mDTYPE,\n\u001b[0;32m    463\u001b[0m     accept_sparse\u001b[38;5;241m=\u001b[39m\u001b[38;5;124m\"\u001b[39m\u001b[38;5;124mcsr\u001b[39m\u001b[38;5;124m\"\u001b[39m,\n\u001b[0;32m    464\u001b[0m     reset\u001b[38;5;241m=\u001b[39m\u001b[38;5;28;01mFalse\u001b[39;00m,\n\u001b[0;32m    465\u001b[0m     force_all_finite\u001b[38;5;241m=\u001b[39mforce_all_finite,\n\u001b[0;32m    466\u001b[0m )\n\u001b[0;32m    467\u001b[0m \u001b[38;5;28;01mif\u001b[39;00m issparse(X) \u001b[38;5;129;01mand\u001b[39;00m (\n\u001b[0;32m    468\u001b[0m     X\u001b[38;5;241m.\u001b[39mindices\u001b[38;5;241m.\u001b[39mdtype \u001b[38;5;241m!=\u001b[39m np\u001b[38;5;241m.\u001b[39mintc \u001b[38;5;129;01mor\u001b[39;00m X\u001b[38;5;241m.\u001b[39mindptr\u001b[38;5;241m.\u001b[39mdtype \u001b[38;5;241m!=\u001b[39m np\u001b[38;5;241m.\u001b[39mintc\n\u001b[0;32m    469\u001b[0m ):\n\u001b[0;32m    470\u001b[0m     \u001b[38;5;28;01mraise\u001b[39;00m \u001b[38;5;167;01mValueError\u001b[39;00m(\u001b[38;5;124m\"\u001b[39m\u001b[38;5;124mNo support for np.int64 index based sparse matrices\u001b[39m\u001b[38;5;124m\"\u001b[39m)\n",
      "File \u001b[1;32m~\\anaconda3\\Lib\\site-packages\\sklearn\\base.py:625\u001b[0m, in \u001b[0;36mBaseEstimator._validate_data\u001b[1;34m(self, X, y, reset, validate_separately, cast_to_ndarray, **check_params)\u001b[0m\n\u001b[0;32m    622\u001b[0m     out \u001b[38;5;241m=\u001b[39m X, y\n\u001b[0;32m    624\u001b[0m \u001b[38;5;28;01mif\u001b[39;00m \u001b[38;5;129;01mnot\u001b[39;00m no_val_X \u001b[38;5;129;01mand\u001b[39;00m check_params\u001b[38;5;241m.\u001b[39mget(\u001b[38;5;124m\"\u001b[39m\u001b[38;5;124mensure_2d\u001b[39m\u001b[38;5;124m\"\u001b[39m, \u001b[38;5;28;01mTrue\u001b[39;00m):\n\u001b[1;32m--> 625\u001b[0m     \u001b[38;5;28mself\u001b[39m\u001b[38;5;241m.\u001b[39m_check_n_features(X, reset\u001b[38;5;241m=\u001b[39mreset)\n\u001b[0;32m    627\u001b[0m \u001b[38;5;28;01mreturn\u001b[39;00m out\n",
      "File \u001b[1;32m~\\anaconda3\\Lib\\site-packages\\sklearn\\base.py:414\u001b[0m, in \u001b[0;36mBaseEstimator._check_n_features\u001b[1;34m(self, X, reset)\u001b[0m\n\u001b[0;32m    411\u001b[0m     \u001b[38;5;28;01mreturn\u001b[39;00m\n\u001b[0;32m    413\u001b[0m \u001b[38;5;28;01mif\u001b[39;00m n_features \u001b[38;5;241m!=\u001b[39m \u001b[38;5;28mself\u001b[39m\u001b[38;5;241m.\u001b[39mn_features_in_:\n\u001b[1;32m--> 414\u001b[0m     \u001b[38;5;28;01mraise\u001b[39;00m \u001b[38;5;167;01mValueError\u001b[39;00m(\n\u001b[0;32m    415\u001b[0m         \u001b[38;5;124mf\u001b[39m\u001b[38;5;124m\"\u001b[39m\u001b[38;5;124mX has \u001b[39m\u001b[38;5;132;01m{\u001b[39;00mn_features\u001b[38;5;132;01m}\u001b[39;00m\u001b[38;5;124m features, but \u001b[39m\u001b[38;5;132;01m{\u001b[39;00m\u001b[38;5;28mself\u001b[39m\u001b[38;5;241m.\u001b[39m\u001b[38;5;18m__class__\u001b[39m\u001b[38;5;241m.\u001b[39m\u001b[38;5;18m__name__\u001b[39m\u001b[38;5;132;01m}\u001b[39;00m\u001b[38;5;124m \u001b[39m\u001b[38;5;124m\"\u001b[39m\n\u001b[0;32m    416\u001b[0m         \u001b[38;5;124mf\u001b[39m\u001b[38;5;124m\"\u001b[39m\u001b[38;5;124mis expecting \u001b[39m\u001b[38;5;132;01m{\u001b[39;00m\u001b[38;5;28mself\u001b[39m\u001b[38;5;241m.\u001b[39mn_features_in_\u001b[38;5;132;01m}\u001b[39;00m\u001b[38;5;124m features as input.\u001b[39m\u001b[38;5;124m\"\u001b[39m\n\u001b[0;32m    417\u001b[0m     )\n",
      "\u001b[1;31mValueError\u001b[0m: X has 3 features, but DecisionTreeClassifier is expecting 4 features as input."
     ]
    }
   ],
   "source": [
    "# fix gender_code:male, ageGeneration_code: GEN X\n",
    "predictions = model.predict([[0,1,0],[0,1,1],[0,1,2],[0,1,3],[0,1,4]])\n",
    "print(\"male: \",predictions)\n",
    "\n",
    "# fix gender_code:female, ageGeneration_code: GEN X\n",
    "predictions = model.predict([[1,1,0],[1,1,1],[1,1,2],[1,1,3],[1,1,4]])\n",
    "print(\"female: \",predictions)"
   ]
  },
  {
   "cell_type": "code",
   "execution_count": 11,
   "id": "cfef4916",
   "metadata": {},
   "outputs": [
    {
     "name": "stdout",
     "output_type": "stream",
     "text": [
      "male:  ['Learning' 'Health' 'Productivity' 'Health' 'Learning']\n",
      "female:  ['Finances' 'Productivity' 'Productivity' 'Social' 'Social']\n"
     ]
    }
   ],
   "source": [
    "# fix gender_code:male, ageGeneration_code: GEN Z\n",
    "predictions = model.predict([[0,2,0],[0,2,1],[0,2,2],[0,2,3],[0,2,4]])\n",
    "print(\"male: \",predictions)\n",
    "\n",
    "# fix gender_code:female, ageGeneration_code: GEN Z\n",
    "predictions = model.predict([[1,2,0],[1,2,1],[1,2,2],[1,2,3],[1,2,4]])\n",
    "print(\"female: \",predictions)"
   ]
  },
  {
   "cell_type": "code",
   "execution_count": 12,
   "id": "e2044620",
   "metadata": {},
   "outputs": [
    {
     "name": "stdout",
     "output_type": "stream",
     "text": [
      "male:  ['Productivity' 'Social' 'Learning' 'Social' 'Finances']\n",
      "female:  ['Productivity' 'Health' 'Productivity' 'Finances' 'Productivity']\n"
     ]
    }
   ],
   "source": [
    "# fix gender_code:male, ageGeneration_code: Millennial \n",
    "predictions = model.predict([[0,3,0],[0,3,1],[0,3,2],[0,3,3],[0,3,4]])\n",
    "print(\"male: \",predictions)\n",
    "\n",
    "# fix gender_code:female, ageGeneration_code: Millennial\n",
    "predictions = model.predict([[1,3,0],[1,3,1],[1,3,2],[1,3,3],[1,3,4]])\n",
    "print(\"female: \",predictions)"
   ]
  },
  {
   "cell_type": "code",
   "execution_count": null,
   "id": "c208dcf8",
   "metadata": {},
   "outputs": [],
   "source": []
  },
  {
   "cell_type": "code",
   "execution_count": 2,
   "id": "208a9eb1",
   "metadata": {},
   "outputs": [
    {
     "name": "stdout",
     "output_type": "stream",
     "text": [
      "(18, 3)\n",
      "1.0\n"
     ]
    }
   ],
   "source": [
    "#import libs\n",
    "import pandas as pd\n",
    "from sklearn.tree import DecisionTreeClassifier\n",
    "from sklearn.model_selection import train_test_split\n",
    "from sklearn.metrics import accuracy_score\n",
    "from sklearn import tree\n",
    "\n",
    "target = \"genre\"\n",
    "# import dataSet file\n",
    "data = pd.read_csv(\"music.csv\")\n",
    "X = data.drop(columns=target)\n",
    "y = data[target]\n",
    "print(data.shape) # to display data rows & cols length\n",
    "X_train, X_test, y_train, y_test = train_test_split(X,y,test_size=0.2)\n",
    "\n",
    "# train model\n",
    "model = DecisionTreeClassifier()\n",
    "model.fit(X_train.values, y_train)\n",
    "predictions = model.predict(X_test.values)\n",
    "\n",
    "# calculate accuarcy\n",
    "score = accuracy_score(y_test, predictions)\n",
    "print(score)\n",
    "\n",
    "# make prediction\n",
    "# 24 year man music type and 36 year woman ?\n",
    "model.predict([[24,1],[36,0]])\n",
    "\n",
    "# export GraphViz\n",
    "columns = data.columns.drop(target).array\n",
    "tree.export_graphviz(\n",
    "    model,\n",
    "    out_file=\"music-genre-recommander.dot\",\n",
    "    feature_names=columns,\n",
    "    class_names=sorted(y.unique()),\n",
    "    label=\"all\",\n",
    "    rounded=True,\n",
    "    filled=True)"
   ]
  }
 ],
 "metadata": {
  "kernelspec": {
   "display_name": "Python 3 (ipykernel)",
   "language": "python",
   "name": "python3"
  },
  "language_info": {
   "codemirror_mode": {
    "name": "ipython",
    "version": 3
   },
   "file_extension": ".py",
   "mimetype": "text/x-python",
   "name": "python",
   "nbconvert_exporter": "python",
   "pygments_lexer": "ipython3",
   "version": "3.11.5"
  }
 },
 "nbformat": 4,
 "nbformat_minor": 5
}
